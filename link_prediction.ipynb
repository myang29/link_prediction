{
 "cells": [
  {
   "cell_type": "markdown",
   "metadata": {},
   "source": [
    "# COMP90051 Project 2"
   ]
  },
  {
   "cell_type": "code",
   "execution_count": 8,
   "metadata": {},
   "outputs": [],
   "source": [
    "# Do not edit. These are the only imports permitted.\n",
    "%matplotlib inline\n",
    "import numpy as np\n",
    "from numpy.linalg import inv\n",
    "import matplotlib.pyplot as plt\n",
    "from abc import ABC, abstractmethod"
   ]
  },
  {
   "cell_type": "markdown",
   "metadata": {},
   "source": [
    "## read in data"
   ]
  },
  {
   "cell_type": "code",
   "execution_count": 9,
   "metadata": {},
   "outputs": [],
   "source": [
    "file = open(\"dataset.txt\",\"r\")\n",
    "data = file.readlines()\n",
    "file.close()\n",
    "arms = []\n",
    "rewards = []\n",
    "contexts = []\n",
    "for event in data:\n",
    "    event = event.split()\n",
    "    arms.append(int(event[0])) # arm id, 1-10\n",
    "    rewards.append(int(event[1])) # 0 or 1\n",
    "    int_contexts = [int(i) for i in event[2:]]\n",
    "    feature = []\n",
    "    for i in range(10): # store contexts as 1 10*1 vector per arm\n",
    "        feature.append(int_contexts[10*i:10*i+10])\n",
    "    contexts.append(feature)"
   ]
  },
  {
   "cell_type": "markdown",
   "metadata": {},
   "source": [
    "## 1. Implement ε-Greedy and UCB"
   ]
  },
  {
   "cell_type": "code",
   "execution_count": 10,
   "metadata": {},
   "outputs": [],
   "source": [
    "class MAB(ABC):\n",
    "    \"\"\"\n",
    "    Abstract class that represents a multi-armed bandit (MAB)\n",
    "    \"\"\"\n",
    "    \n",
    "    @abstractmethod\n",
    "    def play(self, tround, context):\n",
    "        \"\"\"\n",
    "        Play a round\n",
    "        \n",
    "        Arguments\n",
    "        =========\n",
    "        tround : int\n",
    "            positive integer identifying the round\n",
    "        \n",
    "        context : 1D float array, shape (self.ndims * self.narms), optional\n",
    "            context given to the arms\n",
    "        \n",
    "        Returns\n",
    "        =======\n",
    "        arm : int\n",
    "            the positive integer arm id for this round\n",
    "        \"\"\"\n",
    "    \n",
    "    @abstractmethod\n",
    "    def update(self, arm, reward, context):\n",
    "        \"\"\"\n",
    "        Updates the internal state of the MAB after a play\n",
    "        \n",
    "        Arguments\n",
    "        =========\n",
    "        arm : int\n",
    "            a positive integer arm id in {1, ..., self.narms}\n",
    "        \n",
    "        reward : float\n",
    "            reward received from arm\n",
    "        \n",
    "        context : 1D float array, shape (self.ndims * self.narms), optional\n",
    "            context given to arms\n",
    "        \"\"\""
   ]
  },
  {
   "cell_type": "code",
   "execution_count": 6,
   "metadata": {},
   "outputs": [],
   "source": [
    "class EpsGreedy(MAB):\n",
    "    \"\"\"\n",
    "    Epsilon-Greedy multi-armed bandit\n",
    "\n",
    "    Arguments\n",
    "    =========\n",
    "    narms : int\n",
    "        number of arms\n",
    "\n",
    "    epsilon : float\n",
    "        explore probability\n",
    "\n",
    "    Q0 : float, optional\n",
    "        initial value for the arms\n",
    "    \"\"\"\n",
    "    \n",
    "    def __init__(self, narms, epsilon, Q0=np.inf):\n",
    "        self.narms = narms\n",
    "        self.epsilon = epsilon\n",
    "        self.Q_value = [Q0 for i in range(narms)]\n",
    "        self.sum_reward = [0 for i in range(narms)]\n",
    "        self.num_chosen = [0 for i in range(narms)]\n",
    "        \n",
    "    def play(self, tround, context):\n",
    "        random_value = np.random.random() # control random move\n",
    "        if random_value > self.epsilon: # has 1-epsilon probability to choose exploitation.\n",
    "            # get all arm id with maximum q-value to make sure choose between them randomly.\n",
    "            max_arm = []\n",
    "            max_q = max(self.Q_value)\n",
    "            for i in range(len(self.Q_value)):\n",
    "                if self.Q_value[i] == max_q: # get all arms with largest value\n",
    "                    max_arm.append(i+1) # store arm id instead of index. arm id: 1-10\n",
    "            return int(np.random.choice(max_arm))\n",
    "        else:\n",
    "            return int(np.random.randint(1,self.narms+1)) # randint upperbound is exclusive, so +1 make sure choose from 1 to 10\n",
    "        \n",
    "    def update(self, arm, reward, context):\n",
    "        self.num_chosen[arm-1] += 1\n",
    "        N = self.num_chosen[arm-1]\n",
    "        # record sum of reward also to avoid 0*inf during the calculation of average reward\n",
    "        self.sum_reward[arm-1] = self.sum_reward[arm-1] + reward\n",
    "        self.Q_value[arm-1] = self.sum_reward[arm-1]/N\n",
    "        \n",
    "    "
   ]
  },
  {
   "cell_type": "code",
   "execution_count": 11,
   "metadata": {},
   "outputs": [],
   "source": [
    "class UCB(MAB):\n",
    "    \"\"\"\n",
    "    Upper Confidence Bound (UCB) multi-armed bandit\n",
    "\n",
    "    Arguments\n",
    "    =========\n",
    "    narms : int\n",
    "        number of arms\n",
    "\n",
    "    rho : float\n",
    "        positive real explore-exploit parameter\n",
    "\n",
    "    Q0 : float, optional\n",
    "        initial value for the arms\n",
    "    \"\"\"\n",
    "    \n",
    "    def __init__(self, narms, rho, Q0=np.inf):\n",
    "        self.narms = narms\n",
    "        self.rho = rho\n",
    "        self.Q0 = Q0\n",
    "        self.sum_reward = [0 for i in range(narms)]\n",
    "        self.num_chosen = [0 for i in range(narms)]\n",
    "        self.value = [Q0 for i in range(narms)]\n",
    "        \n",
    "    \n",
    "    def play(self, tround, context):\n",
    "        self.t = tround  # read in number of arms\n",
    "        max_q = max(self.value)\n",
    "        max_arm = []\n",
    "        for i in range(len(self.value)): # get all arms with largest value\n",
    "            if self.value[i] == max_q:\n",
    "                max_arm.append(i+1)\n",
    "        return np.random.choice(max_arm) # randomly choose between value-maximizing arms\n",
    "        \n",
    "    def update(self, arm, reward, context):\n",
    "        self.num_chosen[arm-1] += 1\n",
    "        N = self.num_chosen[arm-1]\n",
    "        # record sum of reward also to avoid 0*inf during the calculation of average reward\n",
    "        self.sum_reward[arm-1] = self.sum_reward[arm-1] + reward\n",
    "        self.value[arm-1] = self.sum_reward[arm-1]/N + np.sqrt((self.rho*np.log(self.t))/N)\n",
    "    "
   ]
  },
  {
   "cell_type": "markdown",
   "metadata": {},
   "source": [
    "## 2. Off-Policy Evaluation"
   ]
  },
  {
   "cell_type": "code",
   "execution_count": 12,
   "metadata": {},
   "outputs": [],
   "source": [
    "def offlineEvaluate(mab, arms, rewards, contexts, nrounds):\n",
    "    \"\"\"\n",
    "    Offline evaluation of a multi-armed bandit\n",
    "    \n",
    "    Arguments\n",
    "    =========\n",
    "    mab : instance of MAB\n",
    "    \n",
    "    arms : 1D int array, shape (nevents,) \n",
    "        integer arm id for each event\n",
    "    \n",
    "    rewards : 1D float array, shape (nevents,)\n",
    "        reward received for each event\n",
    "    \n",
    "    contexts : 2D float array, shape (nevents, mab.narms*nfeatures)\n",
    "        contexts presented to the arms (stacked horizontally) \n",
    "        for each event.\n",
    "        \n",
    "    nrounds : int, optional\n",
    "        number of matching events to evaluate `mab` on.\n",
    "    \n",
    "    Returns\n",
    "    =======\n",
    "    out : 1D float array\n",
    "        rewards for the matching events\n",
    "    \"\"\"\n",
    "    history = []\n",
    "    history_reward = []\n",
    "    tround = 1\n",
    "    for i in range(len(arms)):\n",
    "        if tround > nrounds:\n",
    "            break\n",
    "        else:\n",
    "            play_arm = mab.play(tround,contexts[i])\n",
    "            if play_arm == arms[i]:\n",
    "                tround += 1   # only update when play results match the log record\n",
    "                mab.update(play_arm,rewards[i],contexts[i])\n",
    "                history.append(play_arm) # record matched arms and rewards\n",
    "                history_reward.append(rewards[i])\n",
    "    return history_reward\n",
    "    "
   ]
  },
  {
   "cell_type": "code",
   "execution_count": 13,
   "metadata": {},
   "outputs": [
    {
     "name": "stdout",
     "output_type": "stream",
     "text": [
      "EpsGreedy average reward 0.2675\n"
     ]
    }
   ],
   "source": [
    "mab = EpsGreedy(10, 0.05)\n",
    "results_EpsGreedy = offlineEvaluate(mab, arms, rewards, contexts, 800)\n",
    "print('EpsGreedy average reward', np.mean(results_EpsGreedy))"
   ]
  },
  {
   "cell_type": "code",
   "execution_count": 14,
   "metadata": {},
   "outputs": [
    {
     "name": "stdout",
     "output_type": "stream",
     "text": [
      "UCB average reward 0.16125\n"
     ]
    }
   ],
   "source": [
    "mab = UCB(10, 1.0)\n",
    "results_UCB = offlineEvaluate(mab, arms, rewards, contexts, 800)\n",
    "print('UCB average reward', np.mean(results_UCB))"
   ]
  },
  {
   "cell_type": "markdown",
   "metadata": {},
   "source": [
    "## 3. Contextual Bandits"
   ]
  },
  {
   "cell_type": "code",
   "execution_count": 15,
   "metadata": {},
   "outputs": [],
   "source": [
    "class LinUCB(MAB):\n",
    "    \"\"\"\n",
    "    Contextual multi-armed bandit (LinUCB)\n",
    "\n",
    "    Arguments\n",
    "    =========\n",
    "    narms : int\n",
    "        number of arms\n",
    "\n",
    "    ndims : int\n",
    "        number of dimensions for each arm's context\n",
    "\n",
    "    alpha : float\n",
    "        positive real explore-exploit parameter\n",
    "    \"\"\"\n",
    "    \n",
    "    def __init__(self, narms, ndims, alpha): # ndims = 10\n",
    "        self.narms = narms\n",
    "        self.ndims = ndims\n",
    "        self.alpha = alpha\n",
    "        self.matrixA = {}\n",
    "        self.vectorB = {}\n",
    "        self.theta = {}\n",
    "        # initialize for all arms\n",
    "        for i in range(narms): # i:0-9  hence arm id is 1-10\n",
    "            self.matrixA[i+1] = np.identity(ndims) # using arm id (1-10) directly as keys\n",
    "            self.vectorB[i+1] = np.zeros((ndims,1))\n",
    "            self.theta[i+1] = np.dot(np.linalg.inv(self.matrixA[i+1]),self.vectorB[i+1])\n",
    "        \n",
    "        \n",
    "    def play(self, tround, context):\n",
    "        p_value = []\n",
    "        for i in range(self.narms):\n",
    "            Xta = np.array(context[i]).reshape(-1,1) # feature matrix\n",
    "            # calculate p value using stored theta, and update theta at update function\n",
    "            p = np.dot(np.transpose(self.theta[i+1]),Xta) + self.alpha*np.sqrt(np.dot(np.dot(np.transpose(Xta),np.linalg.inv(self.matrixA[i+1])),Xta))\n",
    "            p_value.append(p[0][0])\n",
    "        max_p = max(p_value)\n",
    "        max_arm = []\n",
    "        for i in range(len(p_value)):\n",
    "            if p_value[i] == max_p:\n",
    "                max_arm.append(i+1)\n",
    "        return np.random.choice(max_arm)\n",
    "            \n",
    "    \n",
    "    def update(self, arm, reward, context):\n",
    "        Xta = np.array(context[arm-1]).reshape(-1,1)\n",
    "        self.matrixA[arm] = self.matrixA[arm] + np.dot(Xta,np.transpose(Xta))\n",
    "        self.vectorB[arm] = self.vectorB[arm] + reward*Xta\n",
    "        self.theta[arm] = np.dot(np.linalg.inv(self.matrixA[arm]),self.vectorB[arm]) # update theta for each new arm\n",
    "        \n",
    "        \n",
    "    "
   ]
  },
  {
   "cell_type": "code",
   "execution_count": 16,
   "metadata": {},
   "outputs": [
    {
     "name": "stdout",
     "output_type": "stream",
     "text": [
      "LinUCB average reward 0.53\n"
     ]
    }
   ],
   "source": [
    "mab = LinUCB(10, 10, 1.0)\n",
    "results_LinUCB = offlineEvaluate(mab, arms, rewards, contexts, 800)\n",
    "print('LinUCB average reward', np.mean(results_LinUCB))"
   ]
  },
  {
   "cell_type": "markdown",
   "metadata": {},
   "source": [
    "## 4. Evaluation\n",
    "### 4.A."
   ]
  },
  {
   "cell_type": "code",
   "execution_count": 17,
   "metadata": {},
   "outputs": [
    {
     "data": {
      "text/plain": [
       "<matplotlib.legend.Legend at 0x113c88710>"
      ]
     },
     "execution_count": 17,
     "metadata": {},
     "output_type": "execute_result"
    },
    {
     "data": {
      "image/png": "[encoded data removed]",
      "text/plain": [
       "<Figure size 432x288 with 1 Axes>"
      ]
     },
     "metadata": {},
     "output_type": "display_data"
    }
   ],
   "source": [
    "def cumulative_reward(results):\n",
    "    cum_value = 0\n",
    "    cum_list = []\n",
    "    for i in range(len(results)):\n",
    "        cum_value += results[i]\n",
    "        cum_list.append(cum_value/(i+1))\n",
    "    return cum_list\n",
    "\n",
    "Y_greedy = cumulative_reward(results_EpsGreedy)\n",
    "Y_UCB = cumulative_reward(results_UCB)\n",
    "Y_LinUCB = cumulative_reward(results_LinUCB)\n",
    "\n",
    "T = [i for i in range(len(Y_greedy))]\n",
    "\n",
    "plt.plot(T, Y_greedy, color = \"skyblue\",label = \"epsilon_greedy\")\n",
    "plt.plot(T, Y_UCB, color = \"yellow\", label = \"UCB\")\n",
    "plt.plot(T, Y_LinUCB, color = \"lightgreen\", label = \"LinUCB\")\n",
    "plt.xlabel(\"t round\")\n",
    "plt.ylabel(\"cumulative reward\")\n",
    "plt.legend()"
   ]
  },
  {
   "cell_type": "markdown",
   "metadata": {},
   "source": [
    "### 4.B."
   ]
  },
  {
   "cell_type": "code",
   "execution_count": 18,
   "metadata": {},
   "outputs": [
    {
     "name": "stdout",
     "output_type": "stream",
     "text": [
      "best alpha is  0.1\n"
     ]
    }
   ],
   "source": [
    "# using average rewards to tuning alpha\n",
    "alter_alpha = [0.1,0.2,0.3,0.4,0.5,0.6,0.7,0.8,0.9,1.0]\n",
    "result_list = []\n",
    "for alpha in alter_alpha:\n",
    "    mab = LinUCB(10, 10, alpha)\n",
    "    lin_reward = offlineEvaluate(mab, arms, rewards, contexts, 800)\n",
    "    result_list.append(np.mean(lin_reward))\n",
    "max_result = max(result_list)\n",
    "best_alpha = alter_alpha[result_list.index(max_result)]\n",
    "print (\"best alpha is \", best_alpha)"
   ]
  },
  {
   "cell_type": "code",
   "execution_count": 19,
   "metadata": {},
   "outputs": [
    {
     "data": {
      "image/png": "[encoded data removed]",
      "text/plain": [
       "<Figure size 432x288 with 1 Axes>"
      ]
     },
     "metadata": {},
     "output_type": "display_data"
    }
   ],
   "source": [
    "# showing in graph:\n",
    "plt.plot(alter_alpha, result_list)\n",
    "plt.xlabel(\"t round\")\n",
    "plt.ylabel(\"average reward\")\n",
    "plt.show()"
   ]
  },
  {
   "cell_type": "markdown",
   "metadata": {},
   "source": [
    "Above result shows that the parameter is optimised when it closes to zero."
   ]
  },
  {
   "cell_type": "markdown",
   "metadata": {},
   "source": [
    "## 5. KernelUCB"
   ]
  },
  {
   "cell_type": "code",
   "execution_count": 11,
   "metadata": {},
   "outputs": [],
   "source": [
    "# Do not edit. Special import for this section.\n",
    "from sklearn.metrics.pairwise import rbf_kernel"
   ]
  },
  {
   "cell_type": "code",
   "execution_count": 12,
   "metadata": {},
   "outputs": [
    {
     "ename": "IndentationError",
     "evalue": "expected an indented block (<ipython-input-12-8163fcb89ddf>, line 25)",
     "output_type": "error",
     "traceback": [
      "\u001b[0;36m  File \u001b[0;32m\"<ipython-input-12-8163fcb89ddf>\"\u001b[0;36m, line \u001b[0;32m25\u001b[0m\n\u001b[0;31m    def play(self, tround, context):\u001b[0m\n\u001b[0m      ^\u001b[0m\n\u001b[0;31mIndentationError\u001b[0m\u001b[0;31m:\u001b[0m expected an indented block\n"
     ]
    }
   ],
   "source": [
    "class KernelUCB(MAB):\n",
    "    \"\"\"\n",
    "    Kernelised contextual multi-armed bandit (Kernelised LinUCB)\n",
    "    \n",
    "    Arguments\n",
    "    =========\n",
    "    narms : int\n",
    "        number of arms\n",
    "\n",
    "    ndims : int\n",
    "        number of dimensions for each arm's context\n",
    "\n",
    "    gamma : float\n",
    "        positive real explore-exploit parameter\n",
    "    \n",
    "    eta : float\n",
    "        positive real explore-exploit parameter\n",
    "    \n",
    "    kern : callable\n",
    "        a kernel function from sklearn.metrics.pairwise\n",
    "    \"\"\"\n",
    "    def __init__(self, narms, ndims, gamma, eta, kern):\n",
    "        \n",
    "    \n",
    "    def play(self, tround, context):\n",
    "        \n",
    "    \n",
    "    def update(self, arm, reward, context):\n",
    "        \n",
    "    "
   ]
  }
 ],
 "metadata": {
  "kernelspec": {
   "display_name": "Python 3",
   "language": "python",
   "name": "python3"
  },
  "language_info": {
   "codemirror_mode": {
    "name": "ipython",
    "version": 3
   },
   "file_extension": ".py",
   "mimetype": "text/x-python",
   "name": "python",
   "nbconvert_exporter": "python",
   "pygments_lexer": "ipython3",
   "version": "3.6.5"
  }
 },
 "nbformat": 4,
 "nbformat_minor": 2
}
